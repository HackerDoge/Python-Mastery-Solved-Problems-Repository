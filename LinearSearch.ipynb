{
 "cells": [
  {
   "cell_type": "code",
   "execution_count": 8,
   "id": "c6cc6686",
   "metadata": {},
   "outputs": [],
   "source": [
    "def locate_card(cards,query):\n",
    "    \n",
    "    position = 0\n",
    "    \n",
    "    while True:\n",
    "        \n",
    "        if cards[position]== query:\n",
    "            return position\n",
    "        \n",
    "        position += 1\n",
    "        \n",
    "        if position == len(cards):\n",
    "            \n",
    "            return -1"
   ]
  },
  {
   "cell_type": "code",
   "execution_count": 9,
   "id": "31778783",
   "metadata": {},
   "outputs": [],
   "source": [
    "test={\n",
    "    'input':{'cards':{13,11,10,7,4,3,1,0},'query':7}, 'output': 3\n",
    "}"
   ]
  },
  {
   "cell_type": "code",
   "execution_count": 10,
   "id": "963e798e",
   "metadata": {},
   "outputs": [
    {
     "data": {
      "text/plain": [
       "-1"
      ]
     },
     "execution_count": 10,
     "metadata": {},
     "output_type": "execute_result"
    }
   ],
   "source": [
    "locate_card(test['input']['cards'],test['input']['query'])"
   ]
  },
  {
   "cell_type": "code",
   "execution_count": null,
   "id": "2c27983d",
   "metadata": {},
   "outputs": [],
   "source": []
  }
 ],
 "metadata": {
  "kernelspec": {
   "display_name": "Python 3 (ipykernel)",
   "language": "python",
   "name": "python3"
  },
  "language_info": {
   "codemirror_mode": {
    "name": "ipython",
    "version": 3
   },
   "file_extension": ".py",
   "mimetype": "text/x-python",
   "name": "python",
   "nbconvert_exporter": "python",
   "pygments_lexer": "ipython3",
   "version": "3.9.13"
  }
 },
 "nbformat": 4,
 "nbformat_minor": 5
}
