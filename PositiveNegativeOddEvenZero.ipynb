{
 "cells": [
  {
   "cell_type": "code",
   "execution_count": null,
   "id": "09b3f97e",
   "metadata": {},
   "outputs": [],
   "source": [
    " If number is Positive, Negative, Odd, Even, Zero"
   ]
  },
  {
   "cell_type": "code",
   "execution_count": 9,
   "id": "c6ba521d",
   "metadata": {},
   "outputs": [
    {
     "name": "stdout",
     "output_type": "stream",
     "text": [
      "Enter a Number for Check: 8\n",
      "The Number is Positive.\n",
      "Also the Number is Even.\n"
     ]
    }
   ],
   "source": [
    "def fstcheck(n):\n",
    "    if n<=0:\n",
    "        if n==0:\n",
    "            print(\"The Number is Zero.\")\n",
    "        else:\n",
    "            print(\"The Number is Negative.\")\n",
    "    else:\n",
    "        print(\"The Number is Positive.\")\n",
    "        \n",
    "def scndcheck(n):\n",
    "    if(n%2==0):\n",
    "        print(\"Also the Number is Even.\")\n",
    "    else:\n",
    "        print(\"Also the Number is Odd.\")\n",
    "        \n",
    "if __name__=='__main__':\n",
    "    n=int(input(\"Enter a Number for Check: \"))\n",
    "    fstcheck(n)\n",
    "    scndcheck(n)"
   ]
  },
  {
   "cell_type": "code",
   "execution_count": null,
   "id": "33888098",
   "metadata": {},
   "outputs": [],
   "source": []
  }
 ],
 "metadata": {
  "kernelspec": {
   "display_name": "Python 3 (ipykernel)",
   "language": "python",
   "name": "python3"
  },
  "language_info": {
   "codemirror_mode": {
    "name": "ipython",
    "version": 3
   },
   "file_extension": ".py",
   "mimetype": "text/x-python",
   "name": "python",
   "nbconvert_exporter": "python",
   "pygments_lexer": "ipython3",
   "version": "3.9.13"
  }
 },
 "nbformat": 4,
 "nbformat_minor": 5
}
