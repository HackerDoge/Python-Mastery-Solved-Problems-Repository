{
 "cells": [
  {
   "cell_type": "code",
   "execution_count": null,
   "id": "eaa2bfa0",
   "metadata": {},
   "outputs": [],
   "source": [
    "Count The Greater in List"
   ]
  },
  {
   "cell_type": "code",
   "execution_count": 5,
   "id": "fdf0d4a1",
   "metadata": {},
   "outputs": [
    {
     "name": "stdout",
     "output_type": "stream",
     "text": [
      "4\n"
     ]
    }
   ],
   "source": [
    "def countelement(arr):\n",
    " \n",
    "    count = 1\n",
    "    max = arr[0]\n",
    " \n",
    "    for i in range(1, len(arr)):\n",
    " \n",
    "        if arr[i] > max:\n",
    "            count += 1\n",
    "            max = arr[i]\n",
    "    return count\n",
    "arr = [2, 1, 4, 6, 3,9]\n",
    "print(countelement(arr))"
   ]
  },
  {
   "cell_type": "code",
   "execution_count": null,
   "id": "2bb2be34",
   "metadata": {},
   "outputs": [],
   "source": []
  }
 ],
 "metadata": {
  "kernelspec": {
   "display_name": "Python 3 (ipykernel)",
   "language": "python",
   "name": "python3"
  },
  "language_info": {
   "codemirror_mode": {
    "name": "ipython",
    "version": 3
   },
   "file_extension": ".py",
   "mimetype": "text/x-python",
   "name": "python",
   "nbconvert_exporter": "python",
   "pygments_lexer": "ipython3",
   "version": "3.9.13"
  }
 },
 "nbformat": 4,
 "nbformat_minor": 5
}
