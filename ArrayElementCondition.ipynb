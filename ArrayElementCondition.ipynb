{
 "cells": [
  {
   "cell_type": "code",
   "execution_count": null,
   "id": "60c6bac5",
   "metadata": {},
   "outputs": [],
   "source": [
    "let array=[12345] find any two element say (a,b) that a+b=k return TRUE if program finds (a,b) otherwise return FALSE:\n",
    "\n",
    "Case Study 1: if arr=[123] and k=4 then return TRUE\n",
    "Case Study 2: if arr=[12345] and k =10 then return FALSE"
   ]
  },
  {
   "cell_type": "code",
   "execution_count": null,
   "id": "fbe87054",
   "metadata": {},
   "outputs": [],
   "source": [
    "Case Study 1:"
   ]
  },
  {
   "cell_type": "code",
   "execution_count": 7,
   "id": "20a331a6",
   "metadata": {},
   "outputs": [
    {
     "data": {
      "text/plain": [
       "True"
      ]
     },
     "execution_count": 7,
     "metadata": {},
     "output_type": "execute_result"
    }
   ],
   "source": [
    "k=4\n",
    "arr=[1,2,3]\n",
    "\n",
    "def hell(arr,k):\n",
    "    for i in range (len(arr)):\n",
    "        for j in range(i+1,len(arr)):\n",
    "            if(arr[i]+arr[j]==k):\n",
    "                return True\n",
    "\n",
    "    return False\n",
    "    \n",
    "hell(arr,k)"
   ]
  },
  {
   "cell_type": "code",
   "execution_count": null,
   "id": "6be12c02",
   "metadata": {},
   "outputs": [],
   "source": []
  }
 ],
 "metadata": {
  "kernelspec": {
   "display_name": "Python 3 (ipykernel)",
   "language": "python",
   "name": "python3"
  },
  "language_info": {
   "codemirror_mode": {
    "name": "ipython",
    "version": 3
   },
   "file_extension": ".py",
   "mimetype": "text/x-python",
   "name": "python",
   "nbconvert_exporter": "python",
   "pygments_lexer": "ipython3",
   "version": "3.9.13"
  }
 },
 "nbformat": 4,
 "nbformat_minor": 5
}
