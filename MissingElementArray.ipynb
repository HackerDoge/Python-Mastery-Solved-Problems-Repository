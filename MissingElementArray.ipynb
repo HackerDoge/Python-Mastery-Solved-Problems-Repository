{
 "cells": [
  {
   "cell_type": "code",
   "execution_count": 5,
   "id": "ac0e2832",
   "metadata": {},
   "outputs": [
    {
     "name": "stdout",
     "output_type": "stream",
     "text": [
      "Enter Size of Array: 5\n",
      "Enter the Element: 1\n",
      "Enter the Element: 2\n",
      "Enter the Element: 3\n",
      "Enter the Element: 5\n",
      "Enter the Element: 6\n",
      "The Array is:  [1, 2, 3, 5, 6]\n",
      "Enter the last Element of Array: 6\n",
      "The missing Element is:  4\n"
     ]
    }
   ],
   "source": [
    "def Misser(a,fin):\n",
    "    sume=sum(a)\n",
    "    \n",
    "    form=(fin*(fin+1))//2\n",
    "    return form-sume\n",
    "\n",
    "a=[]\n",
    "siz=int(input(\"Enter Size of Array: \"))\n",
    "for i in range(0,siz):\n",
    "    ele=int(input(\"Enter the Element: \"))\n",
    "    a.append(ele)\n",
    "print(\"The Array is: \",a)\n",
    "\n",
    "fin=int(input(\"Enter the last Element of Array: \"))\n",
    "res=Misser(a,fin)\n",
    "print(\"The missing Element is: \",res)"
   ]
  },
  {
   "cell_type": "code",
   "execution_count": null,
   "id": "e04f7f14",
   "metadata": {},
   "outputs": [],
   "source": []
  }
 ],
 "metadata": {
  "kernelspec": {
   "display_name": "Python 3 (ipykernel)",
   "language": "python",
   "name": "python3"
  },
  "language_info": {
   "codemirror_mode": {
    "name": "ipython",
    "version": 3
   },
   "file_extension": ".py",
   "mimetype": "text/x-python",
   "name": "python",
   "nbconvert_exporter": "python",
   "pygments_lexer": "ipython3",
   "version": "3.9.13"
  }
 },
 "nbformat": 4,
 "nbformat_minor": 5
}
