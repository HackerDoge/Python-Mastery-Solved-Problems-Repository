{
 "cells": [
  {
   "cell_type": "code",
   "execution_count": 4,
   "id": "362944dc",
   "metadata": {},
   "outputs": [
    {
     "name": "stdout",
     "output_type": "stream",
     "text": [
      "Enter the Size of Array: 4\n",
      "Enter the Elements of Array: 4\n",
      "Enter the Elements of Array: 3\n",
      "Enter the Elements of Array: 2\n",
      "Enter the Elements of Array: 1\n",
      "Array is:  [4, 3, 2, 1]\n",
      "6\n"
     ]
    }
   ],
   "source": [
    "def inc(ar):\n",
    "    n=len(ar)\n",
    "    incr=0\n",
    "    for i in range(0,n-1):\n",
    "        for j in range(i+1,n):\n",
    "            if ar[i]>ar[j]:\n",
    "                incr+=1\n",
    "    print(incr)\n",
    "            \n",
    "    \n",
    "siz=int(input(\"Enter the Size of Array: \"))\n",
    "ar=[]\n",
    "for i in range(0,siz):\n",
    "    ele=int(input(\"Enter the Elements of Array: \"))\n",
    "    ar.append(ele)\n",
    "print(\"Array is: \",ar)\n",
    "inc(ar)"
   ]
  },
  {
   "cell_type": "code",
   "execution_count": null,
   "id": "b4c036f9",
   "metadata": {},
   "outputs": [],
   "source": []
  }
 ],
 "metadata": {
  "kernelspec": {
   "display_name": "Python 3 (ipykernel)",
   "language": "python",
   "name": "python3"
  },
  "language_info": {
   "codemirror_mode": {
    "name": "ipython",
    "version": 3
   },
   "file_extension": ".py",
   "mimetype": "text/x-python",
   "name": "python",
   "nbconvert_exporter": "python",
   "pygments_lexer": "ipython3",
   "version": "3.9.13"
  }
 },
 "nbformat": 4,
 "nbformat_minor": 5
}
