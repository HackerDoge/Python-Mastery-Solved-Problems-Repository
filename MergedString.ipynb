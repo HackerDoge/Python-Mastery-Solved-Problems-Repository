{
 "cells": [
  {
   "cell_type": "code",
   "execution_count": 17,
   "id": "f6c66469",
   "metadata": {},
   "outputs": [
    {
     "name": "stdout",
     "output_type": "stream",
     "text": [
      "Enter the First String Value: hl\n",
      "Enter the Second String Value: elo\n",
      "Merged Word: hello\n"
     ]
    }
   ],
   "source": [
    "def Merged(word1,word2):\n",
    "    A,B=len(word1),len(word2)\n",
    "    a,b=0,0\n",
    "    s=[]\n",
    "    \n",
    "    word=1\n",
    "    while a<A and b<B:\n",
    "        if word==1:\n",
    "            s.append(word1[a])\n",
    "            a+=1\n",
    "            word=2\n",
    "            \n",
    "        else:\n",
    "            s.append(word2[b])\n",
    "            b+=1\n",
    "            word=1\n",
    "    while a<A:\n",
    "        s.append(word1[a])\n",
    "        a+=1\n",
    "    while b<B:\n",
    "        s.append(word2[b])\n",
    "        b+=1\n",
    "    return ''.join(s)\n",
    "    \n",
    "    \n",
    "\n",
    "word1=input(\"Enter the First String Value: \")\n",
    "word2=input(\"Enter the Second String Value: \")\n",
    "res= Merged(word1,word2)\n",
    "print(\"Merged Word:\",res)"
   ]
  },
  {
   "cell_type": "code",
   "execution_count": null,
   "id": "8103a51e",
   "metadata": {},
   "outputs": [],
   "source": []
  }
 ],
 "metadata": {
  "kernelspec": {
   "display_name": "Python 3 (ipykernel)",
   "language": "python",
   "name": "python3"
  },
  "language_info": {
   "codemirror_mode": {
    "name": "ipython",
    "version": 3
   },
   "file_extension": ".py",
   "mimetype": "text/x-python",
   "name": "python",
   "nbconvert_exporter": "python",
   "pygments_lexer": "ipython3",
   "version": "3.9.13"
  }
 },
 "nbformat": 4,
 "nbformat_minor": 5
}
