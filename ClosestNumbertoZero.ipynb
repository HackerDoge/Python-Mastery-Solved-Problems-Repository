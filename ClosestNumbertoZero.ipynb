{
 "cells": [
  {
   "cell_type": "code",
   "execution_count": 2,
   "id": "e065d296",
   "metadata": {},
   "outputs": [
    {
     "name": "stdout",
     "output_type": "stream",
     "text": [
      "Enter Size of Array: 4\n",
      "Enter the Element: -2\n",
      "Enter the Element: -1\n",
      "Enter the Element: 1\n",
      "Enter the Element: 4\n",
      "The given Array:  [-2, -1, 1, 4]\n",
      "The Closest number to zero is:  1\n"
     ]
    }
   ],
   "source": [
    "def Closest(a):\n",
    "    clo=a[0]\n",
    "    \n",
    "    for x in a: \n",
    "        if abs(x) < abs(clo):\n",
    "            clo= x\n",
    "        \n",
    "    if clo < 0 and abs(clo) in a:\n",
    "        return abs(clo)\n",
    "    else:\n",
    "        return clo\n",
    "\n",
    "a=[]\n",
    "siz=int(input(\"Enter Size of Array: \"))\n",
    "for i in range (0,siz):\n",
    "    ele=int(input(\"Enter the Element: \"))\n",
    "    a.append(ele)\n",
    "    \n",
    "print(\"The given Array: \",a)\n",
    "res=Closest(a)\n",
    "print(\"The Closest number to zero is: \",res)"
   ]
  },
  {
   "cell_type": "code",
   "execution_count": null,
   "id": "e5c04e64",
   "metadata": {},
   "outputs": [],
   "source": []
  }
 ],
 "metadata": {
  "kernelspec": {
   "display_name": "Python 3 (ipykernel)",
   "language": "python",
   "name": "python3"
  },
  "language_info": {
   "codemirror_mode": {
    "name": "ipython",
    "version": 3
   },
   "file_extension": ".py",
   "mimetype": "text/x-python",
   "name": "python",
   "nbconvert_exporter": "python",
   "pygments_lexer": "ipython3",
   "version": "3.9.13"
  }
 },
 "nbformat": 4,
 "nbformat_minor": 5
}
