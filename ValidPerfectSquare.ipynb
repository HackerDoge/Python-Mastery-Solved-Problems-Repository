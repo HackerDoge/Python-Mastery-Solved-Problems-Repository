{
 "cells": [
  {
   "cell_type": "code",
   "execution_count": null,
   "id": "04e421aa",
   "metadata": {},
   "outputs": [],
   "source": [
    "Valid Perfect Square"
   ]
  },
  {
   "cell_type": "code",
   "execution_count": null,
   "id": "d5d6625a",
   "metadata": {},
   "outputs": [],
   "source": [
    "Case 1: (Simple Loop)"
   ]
  },
  {
   "cell_type": "code",
   "execution_count": 9,
   "id": "0f22fd5c",
   "metadata": {},
   "outputs": [
    {
     "name": "stdout",
     "output_type": "stream",
     "text": [
      "Enter the Number: 9\n"
     ]
    },
    {
     "data": {
      "text/plain": [
       "3"
      ]
     },
     "execution_count": 9,
     "metadata": {},
     "output_type": "execute_result"
    }
   ],
   "source": [
    "def isPerfectSquare(num):\n",
    "    for i in range(1,num+1):\n",
    "        if i*i==num:\n",
    "            return i\n",
    "        if i*i>num:\n",
    "            return False\n",
    "num=int(input(\"Enter the Number: \"))\n",
    "isPerfectSquare(num)\n"
   ]
  },
  {
   "cell_type": "code",
   "execution_count": null,
   "id": "4aceca12",
   "metadata": {},
   "outputs": [],
   "source": [
    "Case 2: (Binary Search)"
   ]
  },
  {
   "cell_type": "code",
   "execution_count": 17,
   "id": "e56879f7",
   "metadata": {},
   "outputs": [
    {
     "name": "stdout",
     "output_type": "stream",
     "text": [
      "Enter the Number: 9\n",
      "False\n"
     ]
    }
   ],
   "source": [
    "def isPerfectSquare(num,s,l):\n",
    "    \n",
    "    while s <= l:\n",
    "        mid = (s + l) // 2\n",
    "        if mid * mid == num:\n",
    "            return True\n",
    "        elif mid * mid < num:\n",
    "            l = mid - 1\n",
    "        else:\n",
    "            s = mid + 1\n",
    "\n",
    "    return False\n",
    "\n",
    "num = int(input(\"Enter the Number: \"))\n",
    "print(isPerfectSquare(num,1,num))"
   ]
  },
  {
   "cell_type": "code",
   "execution_count": null,
   "id": "07eddfae",
   "metadata": {},
   "outputs": [],
   "source": []
  }
 ],
 "metadata": {
  "kernelspec": {
   "display_name": "Python 3 (ipykernel)",
   "language": "python",
   "name": "python3"
  },
  "language_info": {
   "codemirror_mode": {
    "name": "ipython",
    "version": 3
   },
   "file_extension": ".py",
   "mimetype": "text/x-python",
   "name": "python",
   "nbconvert_exporter": "python",
   "pygments_lexer": "ipython3",
   "version": "3.9.13"
  }
 },
 "nbformat": 4,
 "nbformat_minor": 5
}
