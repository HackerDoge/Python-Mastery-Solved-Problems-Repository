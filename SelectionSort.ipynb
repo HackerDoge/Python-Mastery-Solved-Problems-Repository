{
 "cells": [
  {
   "cell_type": "code",
   "execution_count": 9,
   "id": "98784262",
   "metadata": {},
   "outputs": [
    {
     "name": "stdout",
     "output_type": "stream",
     "text": [
      "1 2 3 4 6 "
     ]
    }
   ],
   "source": [
    "def selsort(a,l):\n",
    "    for i in range(l):\n",
    "        min=i\n",
    "        for j in range(i+1,l):\n",
    "            if a[j]<a[min]:\n",
    "                min=j\n",
    "        a[i],a[min]=a[min],a[i]\n",
    "    for z in range(l):\n",
    "        print(a[z],end=\" \")\n",
    "    return a\n",
    "    \n",
    "a=[3,4,1,2,6]\n",
    "l=len(a)\n",
    "res= selsort(a,l)"
   ]
  },
  {
   "cell_type": "code",
   "execution_count": null,
   "id": "5eec22bf",
   "metadata": {},
   "outputs": [],
   "source": []
  }
 ],
 "metadata": {
  "kernelspec": {
   "display_name": "Python 3 (ipykernel)",
   "language": "python",
   "name": "python3"
  },
  "language_info": {
   "codemirror_mode": {
    "name": "ipython",
    "version": 3
   },
   "file_extension": ".py",
   "mimetype": "text/x-python",
   "name": "python",
   "nbconvert_exporter": "python",
   "pygments_lexer": "ipython3",
   "version": "3.9.13"
  }
 },
 "nbformat": 4,
 "nbformat_minor": 5
}
