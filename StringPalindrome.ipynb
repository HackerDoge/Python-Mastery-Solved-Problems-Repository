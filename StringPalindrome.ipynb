{
 "cells": [
  {
   "cell_type": "markdown",
   "id": "30880ae7",
   "metadata": {},
   "source": [
    "# String Palindrom or Not"
   ]
  },
  {
   "cell_type": "code",
   "execution_count": 4,
   "id": "7a97279c",
   "metadata": {},
   "outputs": [
    {
     "name": "stdout",
     "output_type": "stream",
     "text": [
      "Enter the String: SUS\n",
      "The String is a Palindrome\n"
     ]
    }
   ],
   "source": [
    "strg=(input(\"Enter the String: \"))\n",
    "back=strg[-1::-1]\n",
    "if (strg==back):\n",
    "    print(\"The String is a Palindrome\")\n",
    "else:\n",
    "    print(\"The String is not a Palindrome\")\n",
    "    "
   ]
  },
  {
   "cell_type": "code",
   "execution_count": null,
   "id": "897be4af",
   "metadata": {},
   "outputs": [],
   "source": []
  }
 ],
 "metadata": {
  "kernelspec": {
   "display_name": "Python 3 (ipykernel)",
   "language": "python",
   "name": "python3"
  },
  "language_info": {
   "codemirror_mode": {
    "name": "ipython",
    "version": 3
   },
   "file_extension": ".py",
   "mimetype": "text/x-python",
   "name": "python",
   "nbconvert_exporter": "python",
   "pygments_lexer": "ipython3",
   "version": "3.9.13"
  }
 },
 "nbformat": 4,
 "nbformat_minor": 5
}
