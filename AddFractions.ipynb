{
 "cells": [
  {
   "cell_type": "code",
   "execution_count": null,
   "id": "df232875",
   "metadata": {},
   "outputs": [],
   "source": [
    "Add Two Fractions"
   ]
  },
  {
   "cell_type": "code",
   "execution_count": 2,
   "id": "ae92dd6a",
   "metadata": {},
   "outputs": [
    {
     "name": "stdout",
     "output_type": "stream",
     "text": [
      "Numerator 1 : 5\n",
      "Denomenator 1 : 6\n",
      "Numerator 2 : 55\n",
      "Denomenator 2 : 7\n",
      "Sum Is 365 / 42\n"
     ]
    }
   ],
   "source": [
    "n1=int(input(\"Numerator 1 : \"))\n",
    "d1=int(input(\"Denomenator 1 : \"))\n",
    "n2=int(input(\"Numerator 2 : \"))\n",
    "d2=int(input(\"Denomenator 2 : \"))\n",
    "\n",
    "n3=(n1*d2)+(n2*d1)\n",
    "d3=d1*d2\n",
    "\n",
    "div=0\n",
    "\n",
    "if(n3>d3):\n",
    "    div=d3\n",
    "else:\n",
    "    div=n3\n",
    "    \n",
    "for i in range(div,0,-1):\n",
    "    if(n3%i==0 and d3%i==0):\n",
    "        n3=n3//i\n",
    "        d3=d3//i\n",
    "print(\"Sum of Given Fractions: \",n3,\"/\",d3)"
   ]
  },
  {
   "cell_type": "code",
   "execution_count": null,
   "id": "ee044988",
   "metadata": {},
   "outputs": [],
   "source": []
  }
 ],
 "metadata": {
  "kernelspec": {
   "display_name": "Python 3 (ipykernel)",
   "language": "python",
   "name": "python3"
  },
  "language_info": {
   "codemirror_mode": {
    "name": "ipython",
    "version": 3
   },
   "file_extension": ".py",
   "mimetype": "text/x-python",
   "name": "python",
   "nbconvert_exporter": "python",
   "pygments_lexer": "ipython3",
   "version": "3.9.13"
  }
 },
 "nbformat": 4,
 "nbformat_minor": 5
}
