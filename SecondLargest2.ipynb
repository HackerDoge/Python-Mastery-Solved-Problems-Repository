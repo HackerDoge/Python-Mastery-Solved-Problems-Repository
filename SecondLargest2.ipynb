{
 "cells": [
  {
   "cell_type": "code",
   "execution_count": 11,
   "id": "be69b2df",
   "metadata": {},
   "outputs": [
    {
     "name": "stdout",
     "output_type": "stream",
     "text": [
      "Sorted array:\n",
      "44 9 4 3 2 \n",
      "second largest: 9\n"
     ]
    }
   ],
   "source": [
    "def srt(a,le):\n",
    "    for i in range(le):\n",
    "        min=i\n",
    "        for j in range(i+1,le):\n",
    "            if a[min]<a[j]:\n",
    "                min=j\n",
    "        a[i],a[min]=a[min],a[i]\n",
    "    for i in range(le):\n",
    "        print(a[i],end=\" \")\n",
    "    return\n",
    "\n",
    "a=[2,4,9,44,3]\n",
    "le=len(a)\n",
    "print(\"Sorted array:\")\n",
    "srt(a,le)\n",
    "print()\n",
    "for k in range(1,le):\n",
    "    if a[k]!=a[0]:\n",
    "        print(\"second largest:\",a[k])\n",
    "        break\n"
   ]
  },
  {
   "cell_type": "code",
   "execution_count": null,
   "id": "f7033afb",
   "metadata": {},
   "outputs": [],
   "source": []
  }
 ],
 "metadata": {
  "kernelspec": {
   "display_name": "Python 3 (ipykernel)",
   "language": "python",
   "name": "python3"
  },
  "language_info": {
   "codemirror_mode": {
    "name": "ipython",
    "version": 3
   },
   "file_extension": ".py",
   "mimetype": "text/x-python",
   "name": "python",
   "nbconvert_exporter": "python",
   "pygments_lexer": "ipython3",
   "version": "3.9.13"
  }
 },
 "nbformat": 4,
 "nbformat_minor": 5
}
