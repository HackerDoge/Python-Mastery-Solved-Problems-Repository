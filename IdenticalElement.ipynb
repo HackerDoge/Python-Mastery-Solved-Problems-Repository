{
 "cells": [
  {
   "cell_type": "code",
   "execution_count": null,
   "id": "e5d07dde",
   "metadata": {},
   "outputs": [],
   "source": [
    "Identical Element in Matrix"
   ]
  },
  {
   "cell_type": "code",
   "execution_count": null,
   "id": "586842ff",
   "metadata": {},
   "outputs": [],
   "source": [
    "list=[2, 3, 5, 7, 8, 2, 9]\n",
    "\n",
    "for list in list:\n",
    "    if list[0]== \n",
    "    "
   ]
  }
 ],
 "metadata": {
  "kernelspec": {
   "display_name": "Python 3 (ipykernel)",
   "language": "python",
   "name": "python3"
  },
  "language_info": {
   "codemirror_mode": {
    "name": "ipython",
    "version": 3
   },
   "file_extension": ".py",
   "mimetype": "text/x-python",
   "name": "python",
   "nbconvert_exporter": "python",
   "pygments_lexer": "ipython3",
   "version": "3.9.13"
  }
 },
 "nbformat": 4,
 "nbformat_minor": 5
}
