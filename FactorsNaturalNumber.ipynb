{
 "cells": [
  {
   "cell_type": "code",
   "execution_count": null,
   "id": "e60acbd0",
   "metadata": {},
   "outputs": [],
   "source": [
    "Factors of a Natural Number"
   ]
  },
  {
   "cell_type": "code",
   "execution_count": null,
   "id": "549463b6",
   "metadata": {},
   "outputs": [],
   "source": [
    "Case 1 (Naive Solution)"
   ]
  },
  {
   "cell_type": "code",
   "execution_count": 4,
   "id": "cc0fefe3",
   "metadata": {},
   "outputs": [
    {
     "name": "stdout",
     "output_type": "stream",
     "text": [
      "Enter a Number From 1-10050\n",
      "The Factor of Number are\n",
      "1 2 5 10 25 50 "
     ]
    }
   ],
   "source": [
    "def printfactor(n):\n",
    "    i=1\n",
    "    while i<=n:\n",
    "        if n%i==0:\n",
    "            print(i,end=\" \")\n",
    "        i+=1\n",
    "        \n",
    "n=int(input(\"Enter a Number From 1-100\"))\n",
    "print(\"The Factor of Number are\")\n",
    "printfactor(n)    "
   ]
  }
 ],
 "metadata": {
  "kernelspec": {
   "display_name": "Python 3 (ipykernel)",
   "language": "python",
   "name": "python3"
  },
  "language_info": {
   "codemirror_mode": {
    "name": "ipython",
    "version": 3
   },
   "file_extension": ".py",
   "mimetype": "text/x-python",
   "name": "python",
   "nbconvert_exporter": "python",
   "pygments_lexer": "ipython3",
   "version": "3.9.13"
  }
 },
 "nbformat": 4,
 "nbformat_minor": 5
}
