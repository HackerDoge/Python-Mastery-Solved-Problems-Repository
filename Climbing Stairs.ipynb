{
 "cells": [
  {
   "cell_type": "code",
   "execution_count": 2,
   "id": "65beec23",
   "metadata": {},
   "outputs": [
    {
     "name": "stdout",
     "output_type": "stream",
     "text": [
      "Enter The Number: 5\n"
     ]
    },
    {
     "data": {
      "text/plain": [
       "8"
      ]
     },
     "execution_count": 2,
     "metadata": {},
     "output_type": "execute_result"
    }
   ],
   "source": [
    "def climbStairs(n):\n",
    "    one,two=1,1\n",
    "    for i in range(n-1):\n",
    "        temp=one\n",
    "        one=one+two\n",
    "        two=temp\n",
    "    return one\n",
    "\n",
    "n=int(input(\"Enter The Number: \"))\n",
    "climbStairs(n)"
   ]
  },
  {
   "cell_type": "code",
   "execution_count": null,
   "id": "d8691c2d",
   "metadata": {},
   "outputs": [],
   "source": []
  },
  {
   "cell_type": "code",
   "execution_count": null,
   "id": "8f4363d3",
   "metadata": {},
   "outputs": [],
   "source": []
  }
 ],
 "metadata": {
  "kernelspec": {
   "display_name": "Python 3 (ipykernel)",
   "language": "python",
   "name": "python3"
  },
  "language_info": {
   "codemirror_mode": {
    "name": "ipython",
    "version": 3
   },
   "file_extension": ".py",
   "mimetype": "text/x-python",
   "name": "python",
   "nbconvert_exporter": "python",
   "pygments_lexer": "ipython3",
   "version": "3.9.13"
  }
 },
 "nbformat": 4,
 "nbformat_minor": 5
}
