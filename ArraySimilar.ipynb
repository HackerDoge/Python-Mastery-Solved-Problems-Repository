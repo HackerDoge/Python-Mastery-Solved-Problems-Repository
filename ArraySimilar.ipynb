{
 "cells": [
  {
   "cell_type": "code",
   "execution_count": 6,
   "id": "a54a7427",
   "metadata": {},
   "outputs": [
    {
     "name": "stdout",
     "output_type": "stream",
     "text": [
      "Enter the Size of Array1 : 3\n",
      "Enter the Elements of Array1 : 3\n",
      "Enter the Elements of Array1 : 2\n",
      "Enter the Elements of Array1 : 1\n",
      "Array1 is:  [3, 2, 1]\n",
      "Enter the Size of Array2 : 3\n",
      "Enter the Elements of Array2 : 2\n",
      "Enter the Elements of Array2 : 1\n",
      "Enter the Elements of Array2 : 3\n",
      "Array1 is:  [2, 1, 3]\n",
      "Therefore the given two Arrays are similar\n"
     ]
    }
   ],
   "source": [
    "def SameorNot(ar1,ar2):\n",
    "    fst=ar1.sort()\n",
    "    snd=ar2.sort()\n",
    "    \n",
    "    if fst==snd:\n",
    "        print(\"Therefore the given two Arrays are similar\")\n",
    "    else:\n",
    "        print(\"Therefore the given two Arrays are not similar\")\n",
    "\n",
    "si1=int(input(\"Enter the Size of Array1 : \"))\n",
    "ar1=[]\n",
    "for i in range(0,si1):\n",
    "    ele1=int(input(\"Enter the Elements of Array1 : \"))\n",
    "    ar1.append(ele1)\n",
    "print(\"Array1 is: \",ar1)\n",
    "si2=int(input(\"Enter the Size of Array2 : \"))\n",
    "ar2=[]\n",
    "for i in range(0,si2):\n",
    "    ele2=int(input(\"Enter the Elements of Array2 : \"))\n",
    "    ar2.append(ele2)\n",
    "print(\"Array1 is: \",ar2)\n",
    "SameorNot(ar1,ar2)"
   ]
  },
  {
   "cell_type": "code",
   "execution_count": null,
   "id": "8f028f88",
   "metadata": {},
   "outputs": [],
   "source": []
  }
 ],
 "metadata": {
  "kernelspec": {
   "display_name": "Python 3 (ipykernel)",
   "language": "python",
   "name": "python3"
  },
  "language_info": {
   "codemirror_mode": {
    "name": "ipython",
    "version": 3
   },
   "file_extension": ".py",
   "mimetype": "text/x-python",
   "name": "python",
   "nbconvert_exporter": "python",
   "pygments_lexer": "ipython3",
   "version": "3.9.13"
  }
 },
 "nbformat": 4,
 "nbformat_minor": 5
}
