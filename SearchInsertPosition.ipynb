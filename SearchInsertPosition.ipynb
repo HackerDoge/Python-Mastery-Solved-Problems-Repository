{
 "cells": [
  {
   "cell_type": "code",
   "execution_count": 1,
   "id": "a0efaadc",
   "metadata": {},
   "outputs": [
    {
     "name": "stdout",
     "output_type": "stream",
     "text": [
      "2\n",
      "1\n",
      "4\n",
      "0\n"
     ]
    }
   ],
   "source": [
    "def search_insert_position(arr, target):\n",
    "    left, right = 0, len(arr) - 1\n",
    "\n",
    "    while left <= right:\n",
    "        mid = (left + right) // 2\n",
    "        if arr[mid] == target:\n",
    "            return mid\n",
    "        elif arr[mid] > target:\n",
    "            right = mid - 1\n",
    "        else:\n",
    "            left = mid + 1\n",
    "    return left\n",
    "\n",
    "print(search_insert_position([1, 3, 5, 6], 5))  # Output: 2\n",
    "print(search_insert_position([1, 3, 5, 6], 2))  # Output: 1\n",
    "print(search_insert_position([1, 3, 5, 6], 7))  # Output: 4\n",
    "print(search_insert_position([1, 3, 5, 6], 0))  # Output: 0"
   ]
  },
  {
   "cell_type": "code",
   "execution_count": null,
   "id": "98f2f117",
   "metadata": {},
   "outputs": [],
   "source": []
  }
 ],
 "metadata": {
  "kernelspec": {
   "display_name": "Python 3 (ipykernel)",
   "language": "python",
   "name": "python3"
  },
  "language_info": {
   "codemirror_mode": {
    "name": "ipython",
    "version": 3
   },
   "file_extension": ".py",
   "mimetype": "text/x-python",
   "name": "python",
   "nbconvert_exporter": "python",
   "pygments_lexer": "ipython3",
   "version": "3.9.13"
  }
 },
 "nbformat": 4,
 "nbformat_minor": 5
}
