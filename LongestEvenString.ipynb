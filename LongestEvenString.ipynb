{
 "cells": [
  {
   "cell_type": "code",
   "execution_count": null,
   "id": "5cbab0ed",
   "metadata": {},
   "outputs": [],
   "source": [
    "Return the Longest even word or Return 00"
   ]
  },
  {
   "cell_type": "code",
   "execution_count": 12,
   "id": "b59dde4d",
   "metadata": {},
   "outputs": [
    {
     "name": "stdout",
     "output_type": "stream",
     "text": [
      "'apples'\n",
      "'00'\n",
      "'jelloo'\n"
     ]
    },
    {
     "data": {
      "text/plain": [
       "{'jelloo'}"
      ]
     },
     "execution_count": 12,
     "metadata": {},
     "output_type": "execute_result"
    }
   ],
   "source": [
    "def longest_even(text):\n",
    "    longest= '00'\n",
    "    for word in text.split():\n",
    "        if len(word)%2==0 and len(word)>=len(longest):\n",
    "            longest=word\n",
    "    return longest\n",
    "\n",
    "strings=[\n",
    "    \"my apples\",\n",
    "    \"tukua tukua\",\n",
    "    \"jelloo\"   \n",
    "]\n",
    "\n",
    "for string in strings:\n",
    "    print(f\"'{string}'->'{longest_even(string)}'\")\n",
    "{longest_even(string)}\n"
   ]
  },
  {
   "cell_type": "code",
   "execution_count": null,
   "id": "137f3691",
   "metadata": {},
   "outputs": [],
   "source": []
  }
 ],
 "metadata": {
  "kernelspec": {
   "display_name": "Python 3 (ipykernel)",
   "language": "python",
   "name": "python3"
  },
  "language_info": {
   "codemirror_mode": {
    "name": "ipython",
    "version": 3
   },
   "file_extension": ".py",
   "mimetype": "text/x-python",
   "name": "python",
   "nbconvert_exporter": "python",
   "pygments_lexer": "ipython3",
   "version": "3.9.13"
  }
 },
 "nbformat": 4,
 "nbformat_minor": 5
}
