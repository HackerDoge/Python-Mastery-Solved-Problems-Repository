{
 "cells": [
  {
   "cell_type": "code",
   "execution_count": 12,
   "id": "98cc51ca",
   "metadata": {},
   "outputs": [
    {
     "name": "stdout",
     "output_type": "stream",
     "text": [
      "1 2 3 4 33 "
     ]
    }
   ],
   "source": [
    "def bsrt(a,ln):\n",
    "    \n",
    "    for i in range(ln):\n",
    "        swapped=False\n",
    "        \n",
    "        for j in range(ln-1):\n",
    "            if a[j]>a[j+1]:\n",
    "                a[j],a[j+1]=a[j+1],a[j]\n",
    "                swapped=True\n",
    "        if swapped==False:\n",
    "            break\n",
    "\n",
    "a=[2,3,4,1,33]\n",
    "ln=len(a)\n",
    "\n",
    "bsrt(a,ln)\n",
    "for z in range(ln):\n",
    "    print(a[z],end=\" \")"
   ]
  },
  {
   "cell_type": "code",
   "execution_count": 33,
   "id": "d3bfc795",
   "metadata": {},
   "outputs": [
    {
     "name": "stdout",
     "output_type": "stream",
     "text": [
      "9 5 4 3 3 2 1 "
     ]
    }
   ],
   "source": [
    "def bstr(a,l):\n",
    "    for i in range(l):\n",
    "        swap= False\n",
    "        for k in range(l-i-1):\n",
    "            if a[k]<a[k+1]:\n",
    "                a[k],a[k+1]=a[k+1],a[k]\n",
    "                swap= True\n",
    "        if swap==False:\n",
    "            break\n",
    "    \n",
    "a=[2,3,4,1,3,5,9]\n",
    "l=len(a)\n",
    "bstr(a,l)\n",
    "\n",
    "for z in range(l):\n",
    "    print(a[z],end=\" \")\n",
    "    \n"
   ]
  }
 ],
 "metadata": {
  "kernelspec": {
   "display_name": "Python 3 (ipykernel)",
   "language": "python",
   "name": "python3"
  },
  "language_info": {
   "codemirror_mode": {
    "name": "ipython",
    "version": 3
   },
   "file_extension": ".py",
   "mimetype": "text/x-python",
   "name": "python",
   "nbconvert_exporter": "python",
   "pygments_lexer": "ipython3",
   "version": "3.9.13"
  }
 },
 "nbformat": 4,
 "nbformat_minor": 5
}
