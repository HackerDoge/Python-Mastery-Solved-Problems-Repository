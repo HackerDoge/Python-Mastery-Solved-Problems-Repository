{
 "cells": [
  {
   "cell_type": "code",
   "execution_count": null,
   "id": "2b7723f7",
   "metadata": {},
   "outputs": [],
   "source": [
    "Hash Table"
   ]
  },
  {
   "cell_type": "code",
   "execution_count": 10,
   "id": "51de5b56",
   "metadata": {},
   "outputs": [],
   "source": [
    "#HERE THE FOLLOWING CODE WE USING AS ARRAY\n",
    "import pandas as pd\n",
    "\n",
    "dataset=[]\n",
    "with open(\"bok.csv\",\"r\")as a:\n",
    "    for line in a:\n",
    "        tokens=line.split(',')\n",
    "        day= tokens[0]\n",
    "        price= float(tokens[1])\n",
    "        dataset.append([day,price])"
   ]
  },
  {
   "cell_type": "code",
   "execution_count": 8,
   "id": "426ff59b",
   "metadata": {},
   "outputs": [
    {
     "data": {
      "text/plain": [
       "[['ï»¿06-Mar', 310.0],\n",
       " ['07-Mar', 340.0],\n",
       " ['08-Mar', 380.0],\n",
       " ['09-Mar', 302.0],\n",
       " ['10-Mar', 297.0],\n",
       " ['11-Mar', 323.0]]"
      ]
     },
     "execution_count": 8,
     "metadata": {},
     "output_type": "execute_result"
    }
   ],
   "source": [
    "dataset"
   ]
  },
  {
   "cell_type": "code",
   "execution_count": 15,
   "id": "69b3b88f",
   "metadata": {},
   "outputs": [],
   "source": [
    "for element in dataset:\n",
    "    if element[0]=='march9':\n",
    "        print(elements[1])"
   ]
  },
  {
   "cell_type": "code",
   "execution_count": null,
   "id": "bae24e79",
   "metadata": {},
   "outputs": [],
   "source": []
  }
 ],
 "metadata": {
  "kernelspec": {
   "display_name": "Python 3 (ipykernel)",
   "language": "python",
   "name": "python3"
  },
  "language_info": {
   "codemirror_mode": {
    "name": "ipython",
    "version": 3
   },
   "file_extension": ".py",
   "mimetype": "text/x-python",
   "name": "python",
   "nbconvert_exporter": "python",
   "pygments_lexer": "ipython3",
   "version": "3.9.13"
  }
 },
 "nbformat": 4,
 "nbformat_minor": 5
}
