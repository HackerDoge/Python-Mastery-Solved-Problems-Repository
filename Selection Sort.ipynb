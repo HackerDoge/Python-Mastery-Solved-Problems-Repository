{
 "cells": [
  {
   "cell_type": "code",
   "execution_count": null,
   "id": "ede54d6d",
   "metadata": {},
   "outputs": [],
   "source": [
    "Selection Sort"
   ]
  },
  {
   "cell_type": "code",
   "execution_count": 8,
   "id": "6d882c0d",
   "metadata": {},
   "outputs": [
    {
     "name": "stdout",
     "output_type": "stream",
     "text": [
      "Enter number of elements : 5\n",
      "Enter the elements: 3\n",
      "Enter the elements: 5\n",
      "Enter the elements: 7\n",
      "Enter the elements: 8\n",
      "Enter the elements: 9\n",
      "Sorted array:\n",
      "3 , 5 , 7 , 8 , 9 , "
     ]
    }
   ],
   "source": [
    "import sys \n",
    "\n",
    "A = []\n",
    "n = int(input(\"Enter number of elements : \"))\n",
    "\n",
    "for i in range(0, n):\n",
    "    e = int(input(\"Enter the elements: \"))\n",
    "    A.append(e)\n",
    "\n",
    "for i in range(len(A)):\n",
    "    min_idx = i \n",
    "    for j in range(i+1, len(A)):\n",
    "        if A[min_idx] > A[j]:\n",
    "            min_idx = j\n",
    "\n",
    "    A[i], A[min_idx] = A[min_idx], A[i]\n",
    "\n",
    "print(\"Sorted array:\") \n",
    "for i in range(len(A)):\n",
    "    print(\"%d\" % A[i], end=\" , \")"
   ]
  },
  {
   "cell_type": "code",
   "execution_count": null,
   "id": "b852c54c",
   "metadata": {},
   "outputs": [],
   "source": []
  }
 ],
 "metadata": {
  "kernelspec": {
   "display_name": "Python 3 (ipykernel)",
   "language": "python",
   "name": "python3"
  },
  "language_info": {
   "codemirror_mode": {
    "name": "ipython",
    "version": 3
   },
   "file_extension": ".py",
   "mimetype": "text/x-python",
   "name": "python",
   "nbconvert_exporter": "python",
   "pygments_lexer": "ipython3",
   "version": "3.9.13"
  }
 },
 "nbformat": 4,
 "nbformat_minor": 5
}
