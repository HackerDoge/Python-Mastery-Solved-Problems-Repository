{
 "cells": [
  {
   "cell_type": "markdown",
   "id": "ab9c25e6",
   "metadata": {},
   "source": [
    "# Two Sum"
   ]
  },
  {
   "cell_type": "code",
   "execution_count": 6,
   "id": "cb5b83b2",
   "metadata": {},
   "outputs": [
    {
     "name": "stdout",
     "output_type": "stream",
     "text": [
      "Enter the size of list4\n",
      "Enter elements to the list2\n",
      "Enter elements to the list1\n",
      "Enter elements to the list5\n",
      "Enter elements to the list3\n",
      "The List we Given is:  [2, 1, 5, 3]\n",
      "Enter The Target number4\n",
      "The Target Value is:  4\n",
      "Yes,it has elements in list whose sum results in target value\n"
     ]
    }
   ],
   "source": [
    "def Pair(Arr,Size,x):\n",
    "    for i in range(0,Size-1):\n",
    "        for j in range(i+1,Size):\n",
    "            if Arr[i]+Arr[j]==x:\n",
    "                return 1\n",
    "    return 0\n",
    "if __name__==\"__main__\":\n",
    "    Arr=[]\n",
    "    n=int(input(\"Enter the size of list\"))\n",
    "    for e in range (0,n):\n",
    "        ele=int(input(\"Enter elements to the list\"))\n",
    "        Arr.append(ele)\n",
    "    print(\"The List we Given is: \",Arr)\n",
    "    x=int(input(\"Enter The Target number\"))\n",
    "    print(\"The Target Value is: \",x)\n",
    "    Size=len(Arr)\n",
    "    \n",
    "    if(Pair(Arr,Size,x)):\n",
    "        print(\"Yes,it has elements in list whose sum results in target value\")\n",
    "    else:\n",
    "        print(\"No,it doesn't elements in list whose sum results in target value\")\n",
    "        "
   ]
  },
  {
   "cell_type": "code",
   "execution_count": null,
   "id": "2efecbd9",
   "metadata": {},
   "outputs": [],
   "source": []
  }
 ],
 "metadata": {
  "kernelspec": {
   "display_name": "Python 3 (ipykernel)",
   "language": "python",
   "name": "python3"
  },
  "language_info": {
   "codemirror_mode": {
    "name": "ipython",
    "version": 3
   },
   "file_extension": ".py",
   "mimetype": "text/x-python",
   "name": "python",
   "nbconvert_exporter": "python",
   "pygments_lexer": "ipython3",
   "version": "3.9.13"
  }
 },
 "nbformat": 4,
 "nbformat_minor": 5
}
