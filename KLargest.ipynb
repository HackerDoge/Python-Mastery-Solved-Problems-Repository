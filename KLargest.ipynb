{
 "cells": [
  {
   "cell_type": "code",
   "execution_count": 2,
   "id": "c698e83a",
   "metadata": {},
   "outputs": [
    {
     "name": "stdout",
     "output_type": "stream",
     "text": [
      "Enter size: 5\n",
      "Enter elements:44\n",
      "Enter elements:3\n",
      "Enter elements:5\n",
      "Enter elements:22\n",
      "Enter elements:9\n",
      "Enter value of K: 3\n",
      "The given array is:  [44, 3, 5, 22, 9]\n",
      "The K is:  3\n",
      "The value of K are:  44 The value of K are:  22 The value of K are:  9 "
     ]
    }
   ],
   "source": [
    "def klar(ar,k):\n",
    "    ar.sort(reverse=True)\n",
    "    \n",
    "    for j in range(0,k):\n",
    "        print(\"The value of K are: \",ar[j],end=\" \")\n",
    "        \n",
    "\n",
    "siz=int(input(\"Enter size: \"))\n",
    "ar=[]\n",
    "for i in range(0,siz):\n",
    "    ele=int(input(\"Enter elements:\"))\n",
    "    ar.append(ele)\n",
    "k=int(input(\"Enter value of K: \"))\n",
    "\n",
    "print(\"The given array is: \",ar)\n",
    "print(\"The K is: \",k)\n",
    "klar(ar,k)"
   ]
  },
  {
   "cell_type": "code",
   "execution_count": null,
   "id": "6212a025",
   "metadata": {},
   "outputs": [],
   "source": []
  }
 ],
 "metadata": {
  "kernelspec": {
   "display_name": "Python 3 (ipykernel)",
   "language": "python",
   "name": "python3"
  },
  "language_info": {
   "codemirror_mode": {
    "name": "ipython",
    "version": 3
   },
   "file_extension": ".py",
   "mimetype": "text/x-python",
   "name": "python",
   "nbconvert_exporter": "python",
   "pygments_lexer": "ipython3",
   "version": "3.9.13"
  }
 },
 "nbformat": 4,
 "nbformat_minor": 5
}
