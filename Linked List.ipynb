{
 "cells": [
  {
   "cell_type": "code",
   "execution_count": null,
   "id": "436aa8ad",
   "metadata": {},
   "outputs": [],
   "source": [
    "Linked List"
   ]
  },
  {
   "cell_type": "code",
   "execution_count": 1,
   "id": "4e8178fa",
   "metadata": {},
   "outputs": [
    {
     "ename": "NameError",
     "evalue": "name 'll' is not defined",
     "output_type": "error",
     "traceback": [
      "\u001b[1;31m---------------------------------------------------------------------------\u001b[0m",
      "\u001b[1;31mNameError\u001b[0m                                 Traceback (most recent call last)",
      "\u001b[1;32m~\\AppData\\Local\\Temp\\ipykernel_27852\\371461931.py\u001b[0m in \u001b[0;36m<module>\u001b[1;34m\u001b[0m\n\u001b[0;32m     76\u001b[0m     \u001b[1;31m#ll.insert_at_end(7)\u001b[0m\u001b[1;33m\u001b[0m\u001b[1;33m\u001b[0m\u001b[0m\n\u001b[0;32m     77\u001b[0m     \u001b[1;31m#ll.insert_at_end(92)\u001b[0m\u001b[1;33m\u001b[0m\u001b[1;33m\u001b[0m\u001b[0m\n\u001b[1;32m---> 78\u001b[1;33m     \u001b[0mll\u001b[0m\u001b[1;33m.\u001b[0m\u001b[0minsert_values\u001b[0m\u001b[1;33m(\u001b[0m\u001b[1;33m[\u001b[0m\u001b[1;34m\"banana\"\u001b[0m\u001b[1;33m,\u001b[0m\u001b[1;34m\"mango\"\u001b[0m\u001b[1;33m,\u001b[0m\u001b[1;34m\"grapes\"\u001b[0m\u001b[1;33m,\u001b[0m\u001b[1;34m\"oranges\"\u001b[0m\u001b[1;33m]\u001b[0m\u001b[1;33m)\u001b[0m\u001b[1;33m\u001b[0m\u001b[1;33m\u001b[0m\u001b[0m\n\u001b[0m\u001b[0;32m     79\u001b[0m     \u001b[0mll\u001b[0m\u001b[1;33m.\u001b[0m\u001b[0mprint\u001b[0m\u001b[1;33m(\u001b[0m\u001b[1;33m)\u001b[0m\u001b[1;33m\u001b[0m\u001b[1;33m\u001b[0m\u001b[0m\n\u001b[0;32m     80\u001b[0m     \u001b[1;31m#print(\"length:\",ll.get_length())\u001b[0m\u001b[1;33m\u001b[0m\u001b[1;33m\u001b[0m\u001b[0m\n",
      "\u001b[1;31mNameError\u001b[0m: name 'll' is not defined"
     ]
    }
   ],
   "source": [
    "class Node:\n",
    "    def __init__(self, data = None, next = None):\n",
    "        self.data = data\n",
    "        self.next = next\n",
    "class LinkedList:\n",
    "    def __init__(self):\n",
    "        self.head=None\n",
    "        \n",
    "    def insert_at_begining(self,data): #TO INSERT VALUE FROM THE START\n",
    "        node=Node(data,self.head)\n",
    "        self.head= node\n",
    "        \n",
    "    def print(self):\n",
    "        if self.head is None:\n",
    "            print(\"linked list is empty\")\n",
    "            return\n",
    "            \n",
    "        itr= self.head\n",
    "        llstr= ''\n",
    "        \n",
    "        while itr:\n",
    "            llstr+= str(itr.data)+'--> '\n",
    "            itr= itr.next\n",
    "            \n",
    "        print(llstr)\n",
    "    \n",
    "    def insert_at_end(self,data):  #TO INSERT VALUE FROM THE END\n",
    "        if self.head is None:\n",
    "            self.head= Node(data, None)\n",
    "            return\n",
    "        \n",
    "        itr= self.head\n",
    "        while itr.next:\n",
    "            itr= itr.next\n",
    "            \n",
    "        itr.next= Node(data, None)\n",
    "    \n",
    "    def insert_values(self,Main): #TO INSERT VALUE FROM FROM A LIST TO LINKED LIST\n",
    "        self.head= None\n",
    "        for data in Main:\n",
    "            self.insert_at_end(data)\n",
    "            \n",
    "    def get_length(self): #TO GET THE SIZE OF LINKED LIST\n",
    "        count= 0\n",
    "        itr= self.head\n",
    "        while itr:\n",
    "            count+= 1\n",
    "            itr= itr.next\n",
    "            \n",
    "        return count\n",
    "    \n",
    "    def remove_at(self,index):\n",
    "        if index<0 or index>=self.get_length():\n",
    "            raise Exception(\"duntananananana\")\n",
    "        \n",
    "        if index==0:\n",
    "            self.head= self.head.next\n",
    "            return\n",
    "        \n",
    "        count= 0\n",
    "        itr= self.head\n",
    "        \n",
    "        while itr:\n",
    "            if count== index - 1:\n",
    "                itr.next= itr.next.next\n",
    "                break\n",
    "            itr= itr.next\n",
    "            count +=1\n",
    "            \n",
    "if __name__=='__main__':\n",
    "    #ll=LinkedList() \n",
    "    #ll.insert_at_begining(6)\n",
    "    #ll.insert_at_begining(88)\n",
    "    #ll.insert_at_begining(5)\n",
    "    #ll.insert_at_begining(44)\n",
    "    #ll.insert_at_end(7)\n",
    "    #ll.insert_at_end(92)\n",
    "    ll.insert_values([\"banana\",\"mango\",\"grapes\",\"oranges\"])\n",
    "    ll.print()\n",
    "    #print(\"length:\",ll.get_length())\n",
    "    ll.remove_at(1)\n",
    "    ll.print()"
   ]
  },
  {
   "cell_type": "code",
   "execution_count": null,
   "id": "3cdd9719",
   "metadata": {},
   "outputs": [],
   "source": []
  }
 ],
 "metadata": {
  "kernelspec": {
   "display_name": "Python 3 (ipykernel)",
   "language": "python",
   "name": "python3"
  },
  "language_info": {
   "codemirror_mode": {
    "name": "ipython",
    "version": 3
   },
   "file_extension": ".py",
   "mimetype": "text/x-python",
   "name": "python",
   "nbconvert_exporter": "python",
   "pygments_lexer": "ipython3",
   "version": "3.9.13"
  }
 },
 "nbformat": 4,
 "nbformat_minor": 5
}
