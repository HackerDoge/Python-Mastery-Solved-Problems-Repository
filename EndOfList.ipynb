{
 "cells": [
  {
   "cell_type": "code",
   "execution_count": 2,
   "id": "f666026f",
   "metadata": {},
   "outputs": [
    {
     "name": "stdout",
     "output_type": "stream",
     "text": [
      "Enter number of elements : 5\n",
      "3\n",
      "0\n",
      "5\n",
      "4\n",
      "0\n",
      "[3, 5, 4, 0, 0]\n"
     ]
    }
   ],
   "source": [
    "#list=[1,0,2,0,7,8]\n",
    "list=[]\n",
    "n = int(input(\"Enter number of elements : \"))\n",
    "for i in range(0, n):\n",
    "    ele = int(input())\n",
    "    list.append(ele)\n",
    "\n",
    "for item in list:\n",
    "    if item == 0:\n",
    "        \n",
    "        list.remove(item)\n",
    "        list.append(item)\n",
    "        \n",
    "print(list)"
   ]
  },
  {
   "cell_type": "code",
   "execution_count": null,
   "id": "e2822709",
   "metadata": {},
   "outputs": [],
   "source": [
    "0\n"
   ]
  }
 ],
 "metadata": {
  "kernelspec": {
   "display_name": "Python 3 (ipykernel)",
   "language": "python",
   "name": "python3"
  },
  "language_info": {
   "codemirror_mode": {
    "name": "ipython",
    "version": 3
   },
   "file_extension": ".py",
   "mimetype": "text/x-python",
   "name": "python",
   "nbconvert_exporter": "python",
   "pygments_lexer": "ipython3",
   "version": "3.9.13"
  }
 },
 "nbformat": 4,
 "nbformat_minor": 5
}
