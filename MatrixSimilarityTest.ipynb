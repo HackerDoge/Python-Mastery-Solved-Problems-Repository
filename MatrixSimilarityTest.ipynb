{
 "cells": [
  {
   "cell_type": "code",
   "execution_count": null,
   "id": "fe6e0193",
   "metadata": {},
   "outputs": [],
   "source": [
    "Two Identical Matrix"
   ]
  },
  {
   "cell_type": "code",
   "execution_count": 1,
   "id": "5d0a81d9",
   "metadata": {},
   "outputs": [
    {
     "name": "stdout",
     "output_type": "stream",
     "text": [
      "Matrices are identical\n"
     ]
    }
   ],
   "source": [
    "N = 4\n",
    "def areSame(A,B):       \n",
    "    for i in range(N): \n",
    "        for j in range(N): \n",
    "            if (A[i][j] != B[i][j]): \n",
    "                return 0\n",
    "    return 1\n",
    "A= [ [1, 1, 1, 1], \n",
    "    [2, 2, 2, 2], \n",
    "    [3, 3, 3, 3], \n",
    "    [4, 4, 4, 4]]  \n",
    "B= [ [1, 1, 1, 1], \n",
    "    [2, 2, 2, 2], \n",
    "    [3, 3, 3, 3], \n",
    "    [4, 4, 4, 4]]     \n",
    "if (areSame(A, B)==1): \n",
    "    print(\"Matrices are identical\") \n",
    "else: \n",
    "    print(\"Matrices are not identical\") "
   ]
  },
  {
   "cell_type": "code",
   "execution_count": null,
   "id": "7589479f",
   "metadata": {},
   "outputs": [],
   "source": []
  }
 ],
 "metadata": {
  "kernelspec": {
   "display_name": "Python 3 (ipykernel)",
   "language": "python",
   "name": "python3"
  },
  "language_info": {
   "codemirror_mode": {
    "name": "ipython",
    "version": 3
   },
   "file_extension": ".py",
   "mimetype": "text/x-python",
   "name": "python",
   "nbconvert_exporter": "python",
   "pygments_lexer": "ipython3",
   "version": "3.9.13"
  }
 },
 "nbformat": 4,
 "nbformat_minor": 5
}
