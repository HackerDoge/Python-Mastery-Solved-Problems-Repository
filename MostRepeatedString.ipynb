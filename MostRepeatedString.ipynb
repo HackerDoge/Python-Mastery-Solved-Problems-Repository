{
 "cells": [
  {
   "cell_type": "code",
   "execution_count": 6,
   "id": "f5d85071",
   "metadata": {},
   "outputs": [
    {
     "name": "stdout",
     "output_type": "stream",
     "text": [
      "Enter the String: Ravi had been saying that he had been there\n",
      "The most repeated word in given String:  had\n"
     ]
    }
   ],
   "source": [
    "def counters(sinput):\n",
    "    freq={}\n",
    "    words=sinput.split()\n",
    "    \n",
    "    for word in words:\n",
    "        if word not in freq:\n",
    "            freq[word]=1\n",
    "        else:\n",
    "            freq[word] += 1 \n",
    "        if freq[word]>1:\n",
    "            return word\n",
    "    \n",
    "    return \"Invalid\"\n",
    "\n",
    "\n",
    "sinput=(input(\"Enter the String: \"))\n",
    "res=counters(sinput)\n",
    "print(\"The most repeated word in given String: \",res)\n"
   ]
  },
  {
   "cell_type": "code",
   "execution_count": null,
   "id": "90005151",
   "metadata": {},
   "outputs": [],
   "source": []
  }
 ],
 "metadata": {
  "kernelspec": {
   "display_name": "Python 3 (ipykernel)",
   "language": "python",
   "name": "python3"
  },
  "language_info": {
   "codemirror_mode": {
    "name": "ipython",
    "version": 3
   },
   "file_extension": ".py",
   "mimetype": "text/x-python",
   "name": "python",
   "nbconvert_exporter": "python",
   "pygments_lexer": "ipython3",
   "version": "3.9.13"
  }
 },
 "nbformat": 4,
 "nbformat_minor": 5
}
