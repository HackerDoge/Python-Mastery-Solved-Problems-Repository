{
 "cells": [
  {
   "cell_type": "code",
   "execution_count": 8,
   "id": "d3ced140",
   "metadata": {},
   "outputs": [
    {
     "name": "stdout",
     "output_type": "stream",
     "text": [
      "Enter the size of Array: 5\n",
      "Enter the element in Array: 99\n",
      "Enter the element in Array: 4\n",
      "Enter the element in Array: 6\n",
      "Enter the element in Array: 9\n",
      "Enter the element in Array: 2\n",
      "The given Array:  [99, 4, 6, 9, 2]\n",
      "The second largest number is: 9\n"
     ]
    }
   ],
   "source": [
    "def scndlar(a,sizz):\n",
    "    a.sort(reverse=True)\n",
    "    for j in range(0,sizz):\n",
    "        if a[j] != a[0]:\n",
    "            print(\"The second largest number is:\",a[j])\n",
    "            return \n",
    "    print(\"There is no second largest number\")\n",
    "            \n",
    "\n",
    "a=[]\n",
    "siz=int(input(\"Enter the size of Array: \"))\n",
    "for i in range(0,siz):\n",
    "    ele=int(input(\"Enter the element in Array: \"))\n",
    "    a.append(ele)\n",
    "sizz=len(a)\n",
    "print(\"The given Array: \",a)\n",
    "scndlar(a,sizz)\n"
   ]
  },
  {
   "cell_type": "code",
   "execution_count": null,
   "id": "423fb685",
   "metadata": {},
   "outputs": [],
   "source": []
  }
 ],
 "metadata": {
  "kernelspec": {
   "display_name": "Python 3 (ipykernel)",
   "language": "python",
   "name": "python3"
  },
  "language_info": {
   "codemirror_mode": {
    "name": "ipython",
    "version": 3
   },
   "file_extension": ".py",
   "mimetype": "text/x-python",
   "name": "python",
   "nbconvert_exporter": "python",
   "pygments_lexer": "ipython3",
   "version": "3.9.13"
  }
 },
 "nbformat": 4,
 "nbformat_minor": 5
}
