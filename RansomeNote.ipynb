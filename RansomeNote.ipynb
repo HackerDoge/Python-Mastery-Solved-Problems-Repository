{
 "cells": [
  {
   "cell_type": "code",
   "execution_count": 3,
   "id": "30ac210b",
   "metadata": {},
   "outputs": [
    {
     "name": "stdout",
     "output_type": "stream",
     "text": [
      "Enter the First String Value: aabb\n",
      "Enter the First String Value: abab\n",
      "Its: True\n"
     ]
    }
   ],
   "source": [
    "def canConstruct(ransomNote, magazine):\n",
    "    counter={}\n",
    "\n",
    "    for a in magazine:\n",
    "        if a in counter:\n",
    "            counter[a] += 1\n",
    "        else:\n",
    "            counter[a] = 1\n",
    "    for a in ransomNote:\n",
    "        if a not in counter:\n",
    "            return False\n",
    "        elif counter[a]==1:\n",
    "            del counter[a]\n",
    "        else:\n",
    "            counter[a] -=1\n",
    "\n",
    "    return True\n",
    "ransomNote=(input(\"Enter the First String Value: \"))\n",
    "magazine=(input(\"Enter the First String Value: \"))\n",
    "res=canConstruct(ransomNote, magazine)\n",
    "print(\"Its:\",res)"
   ]
  },
  {
   "cell_type": "code",
   "execution_count": null,
   "id": "8ca57822",
   "metadata": {},
   "outputs": [],
   "source": []
  }
 ],
 "metadata": {
  "kernelspec": {
   "display_name": "Python 3 (ipykernel)",
   "language": "python",
   "name": "python3"
  },
  "language_info": {
   "codemirror_mode": {
    "name": "ipython",
    "version": 3
   },
   "file_extension": ".py",
   "mimetype": "text/x-python",
   "name": "python",
   "nbconvert_exporter": "python",
   "pygments_lexer": "ipython3",
   "version": "3.9.13"
  }
 },
 "nbformat": 4,
 "nbformat_minor": 5
}
