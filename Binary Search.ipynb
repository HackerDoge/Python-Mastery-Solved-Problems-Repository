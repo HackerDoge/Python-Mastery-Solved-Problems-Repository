{
 "cells": [
  {
   "cell_type": "code",
   "execution_count": null,
   "id": "4888fd99",
   "metadata": {},
   "outputs": [],
   "source": [
    "Binary Search"
   ]
  },
  {
   "cell_type": "code",
   "execution_count": 9,
   "id": "f8b4c021",
   "metadata": {},
   "outputs": [
    {
     "name": "stdout",
     "output_type": "stream",
     "text": [
      "Enter number of elements : 5\n",
      "Enter the elements: 3\n",
      "Enter the elements: 4\n",
      "Enter the elements: 5\n",
      "Enter the elements: 7\n",
      "Enter the elements: 9\n",
      "Enter number to be Searched : 4\n",
      "Element is present at index 1\n"
     ]
    }
   ],
   "source": [
    "def binarySearch(arr, l, r, x):\n",
    " \n",
    "    while l <= r:\n",
    " \n",
    "        mid = l + (r - l) // 2\n",
    " \n",
    "        if arr[mid] == x:\n",
    "            return mid\n",
    " \n",
    "        elif arr[mid] < x:\n",
    "            l = mid + 1\n",
    " \n",
    "        else:\n",
    "            r = mid - 1\n",
    " \n",
    "    return -1\n",
    " \n",
    "if __name__ == '__main__':\n",
    "    arr = []\n",
    "    n = int(input(\"Enter number of elements : \"))\n",
    "    \n",
    "    for i in range(0, n):\n",
    "        e = int(input(\"Enter the elements: \"))\n",
    "        arr.append(e)  \n",
    "    \n",
    "    \n",
    "    x = int(input(\"Enter number to be Searched : \"))\n",
    "\n",
    "    result = binarySearch(arr, 0, len(arr)-1, x)\n",
    "    if result != -1:\n",
    "        print(\"Element is present at index\", result)\n",
    "    else:\n",
    "        print(\"Element is not present in array\")\n",
    "        \n",
    "    "
   ]
  },
  {
   "cell_type": "code",
   "execution_count": null,
   "id": "7fc4cfbd",
   "metadata": {},
   "outputs": [],
   "source": []
  }
 ],
 "metadata": {
  "kernelspec": {
   "display_name": "Python 3 (ipykernel)",
   "language": "python",
   "name": "python3"
  },
  "language_info": {
   "codemirror_mode": {
    "name": "ipython",
    "version": 3
   },
   "file_extension": ".py",
   "mimetype": "text/x-python",
   "name": "python",
   "nbconvert_exporter": "python",
   "pygments_lexer": "ipython3",
   "version": "3.9.13"
  }
 },
 "nbformat": 4,
 "nbformat_minor": 5
}
