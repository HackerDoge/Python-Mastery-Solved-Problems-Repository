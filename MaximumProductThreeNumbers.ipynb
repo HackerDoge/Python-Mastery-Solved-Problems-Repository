{
 "cells": [
  {
   "cell_type": "code",
   "execution_count": null,
   "id": "3fedcf82",
   "metadata": {},
   "outputs": [],
   "source": [
    "Maximum Product of Three Numbers"
   ]
  },
  {
   "cell_type": "code",
   "execution_count": 3,
   "id": "7ff86efe",
   "metadata": {},
   "outputs": [
    {
     "data": {
      "text/plain": [
       "60"
      ]
     },
     "execution_count": 3,
     "metadata": {},
     "output_type": "execute_result"
    }
   ],
   "source": [
    "def Maxi(A):\n",
    "    A.sort()\n",
    "    N=len(A)\n",
    "    P1=A[N-1]*A[0]*A[1]\n",
    "    P2=A[N-1]*A[N-2]*A[N-3]\n",
    "    return max(P1,P2)\n",
    "    pass\n",
    "\n",
    "A=[-3,1,2,-2,5,6]\n",
    "Maxi(A)"
   ]
  },
  {
   "cell_type": "code",
   "execution_count": null,
   "id": "37177e34",
   "metadata": {},
   "outputs": [],
   "source": []
  }
 ],
 "metadata": {
  "kernelspec": {
   "display_name": "Python 3 (ipykernel)",
   "language": "python",
   "name": "python3"
  },
  "language_info": {
   "codemirror_mode": {
    "name": "ipython",
    "version": 3
   },
   "file_extension": ".py",
   "mimetype": "text/x-python",
   "name": "python",
   "nbconvert_exporter": "python",
   "pygments_lexer": "ipython3",
   "version": "3.9.13"
  }
 },
 "nbformat": 4,
 "nbformat_minor": 5
}
