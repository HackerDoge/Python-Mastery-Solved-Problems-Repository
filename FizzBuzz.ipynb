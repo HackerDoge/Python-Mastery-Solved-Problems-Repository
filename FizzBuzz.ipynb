{
 "cells": [
  {
   "cell_type": "code",
   "execution_count": null,
   "id": "569e09f0",
   "metadata": {},
   "outputs": [],
   "source": [
    "FizzBuzz"
   ]
  },
  {
   "cell_type": "code",
   "execution_count": null,
   "id": "8619b049",
   "metadata": {},
   "outputs": [],
   "source": [
    "LOGIC\n",
    "# if divisible by 3 & 5 (FizzBuzz)\n",
    "# if divisible by 3 (Fizz)      \n",
    "# if divisible by 5 (Buzz)\n",
    "# if none (number)"
   ]
  },
  {
   "cell_type": "code",
   "execution_count": 4,
   "id": "795e8f93",
   "metadata": {},
   "outputs": [
    {
     "name": "stdout",
     "output_type": "stream",
     "text": [
      "5\n",
      "Buzz\n"
     ]
    }
   ],
   "source": [
    "#CASE 1\n",
    "\n",
    "n=int(input())\n",
    "\n",
    "if n%3==0 and n%5==0:\n",
    "    print(\"FizzBuzz\")\n",
    "\n",
    "elif n%3==0:\n",
    "    print(\"Fizz\")\n",
    "\n",
    "elif n%5==0:\n",
    "    print(\"Buzz\")\n",
    "\n",
    "else:\n",
    "    print(n)"
   ]
  },
  {
   "cell_type": "code",
   "execution_count": 9,
   "id": "df17d670",
   "metadata": {},
   "outputs": [
    {
     "name": "stdout",
     "output_type": "stream",
     "text": [
      "4\n",
      "['1', '2', 'Fizz', '4']\n"
     ]
    }
   ],
   "source": [
    "#CASE 2\n",
    "\n",
    "n=int(input())\n",
    "result = []\n",
    "for i in range(1, n + 1):\n",
    "    if i % 3 == 0 and i % 5 == 0:  \n",
    "        result.append(\"FizzBuzz\")\n",
    "    elif i % 3 == 0:\n",
    "        result.append(\"Fizz\")\n",
    "    elif i % 5 == 0:\n",
    "        result.append(\"Buzz\")\n",
    "    else:\n",
    "        result.append(str(i))\n",
    "print(result)"
   ]
  }
 ],
 "metadata": {
  "kernelspec": {
   "display_name": "Python 3 (ipykernel)",
   "language": "python",
   "name": "python3"
  },
  "language_info": {
   "codemirror_mode": {
    "name": "ipython",
    "version": 3
   },
   "file_extension": ".py",
   "mimetype": "text/x-python",
   "name": "python",
   "nbconvert_exporter": "python",
   "pygments_lexer": "ipython3",
   "version": "3.9.13"
  }
 },
 "nbformat": 4,
 "nbformat_minor": 5
}
