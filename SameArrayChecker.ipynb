{
 "cells": [
  {
   "cell_type": "markdown",
   "id": "3d302ab7",
   "metadata": {},
   "source": [
    "# Two Array Same or Not"
   ]
  },
  {
   "cell_type": "code",
   "execution_count": 15,
   "id": "fe3786cf",
   "metadata": {},
   "outputs": [
    {
     "name": "stdout",
     "output_type": "stream",
     "text": [
      "enter no of element: 3\n",
      "enter your element: 4\n",
      "enter your element: 3\n",
      "enter your element: 2\n",
      "[4, 3, 2]\n",
      "enter no of element: 3\n",
      "enter your element: 3\n",
      "enter your element: 2\n",
      "enter your element: 5\n",
      "[3, 2, 5]\n",
      "The elements we have in common:  [3, 2]\n"
     ]
    }
   ],
   "source": [
    "def SameorNot(lo,lt):\n",
    "    co=[]\n",
    "    for x in range(len(lo)):\n",
    "        if lo[x] in lt:\n",
    "            co.append(lo[x])\n",
    "            \n",
    "    return co\n",
    "\n",
    "if __name__ == '__main__':\n",
    "    lo=[]\n",
    "    lt=[]\n",
    "    \n",
    "    a=int(input(\"enter no of element: \"))\n",
    "    for i in range(0,a):\n",
    "        ele=int(input(\"enter your element: \"))\n",
    "        lo.append(ele)\n",
    "    print(lo)\n",
    "\n",
    "    b=int(input(\"enter no of element: \"))\n",
    "    for i in range(0,b):\n",
    "        ele=int(input(\"enter your element: \"))\n",
    "        lt.append(ele)\n",
    "    print(lt)\n",
    "    \n",
    "    common= SameorNot(lo,lt)\n",
    "    print(\"The elements we have in common: \",common)"
   ]
  },
  {
   "cell_type": "code",
   "execution_count": null,
   "id": "c4303859",
   "metadata": {},
   "outputs": [],
   "source": []
  }
 ],
 "metadata": {
  "kernelspec": {
   "display_name": "Python 3 (ipykernel)",
   "language": "python",
   "name": "python3"
  },
  "language_info": {
   "codemirror_mode": {
    "name": "ipython",
    "version": 3
   },
   "file_extension": ".py",
   "mimetype": "text/x-python",
   "name": "python",
   "nbconvert_exporter": "python",
   "pygments_lexer": "ipython3",
   "version": "3.9.13"
  }
 },
 "nbformat": 4,
 "nbformat_minor": 5
}
