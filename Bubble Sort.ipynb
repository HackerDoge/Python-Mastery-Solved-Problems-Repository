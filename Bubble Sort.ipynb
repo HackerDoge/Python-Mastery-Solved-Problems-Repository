{
 "cells": [
  {
   "cell_type": "code",
   "execution_count": null,
   "id": "373f8f0f",
   "metadata": {},
   "outputs": [],
   "source": [
    "Bubble Sort"
   ]
  },
  {
   "cell_type": "code",
   "execution_count": 2,
   "id": "5bfcc75b",
   "metadata": {},
   "outputs": [
    {
     "name": "stdout",
     "output_type": "stream",
     "text": [
      "Enter number of elements : 5\n",
      "Enter the elements: 6\n",
      "Enter the elements: 3\n",
      "Enter the elements: 4\n",
      "Enter the elements: 9\n",
      "Enter the elements: 10\n",
      "Sorted array:\n",
      "3 4 6 9 10 "
     ]
    }
   ],
   "source": [
    "def bubbleSort(arr):\n",
    "    n = len(arr)\n",
    "     \n",
    "    for i in range(n):\n",
    "        swapped = False\n",
    " \n",
    "        \n",
    "        for j in range(0, n-i-1):\n",
    " \n",
    "            if arr[j] > arr[j+1]:\n",
    "                arr[j], arr[j+1] = arr[j+1], arr[j]\n",
    "                swapped = True\n",
    "        if (swapped == False):\n",
    "            break\n",
    " \n",
    "\n",
    "if __name__ == \"__main__\":\n",
    "    arr = []\n",
    "    \n",
    "    n = int(input(\"Enter number of elements : \"))\n",
    "\n",
    "    for i in range(0, n):\n",
    "        e = int(input(\"Enter the elements: \"))\n",
    "        arr.append(e)\n",
    "    bubbleSort(arr)\n",
    " \n",
    "    print(\"Sorted array:\")\n",
    "    for i in range(len(arr)):\n",
    "        print(\"%d\" % arr[i], end=\" \")"
   ]
  },
  {
   "cell_type": "code",
   "execution_count": null,
   "id": "32e059fb",
   "metadata": {},
   "outputs": [],
   "source": []
  }
 ],
 "metadata": {
  "kernelspec": {
   "display_name": "Python 3 (ipykernel)",
   "language": "python",
   "name": "python3"
  },
  "language_info": {
   "codemirror_mode": {
    "name": "ipython",
    "version": 3
   },
   "file_extension": ".py",
   "mimetype": "text/x-python",
   "name": "python",
   "nbconvert_exporter": "python",
   "pygments_lexer": "ipython3",
   "version": "3.9.13"
  }
 },
 "nbformat": 4,
 "nbformat_minor": 5
}
