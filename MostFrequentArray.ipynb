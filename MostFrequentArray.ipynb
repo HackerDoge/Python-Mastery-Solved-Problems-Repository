{
 "cells": [
  {
   "cell_type": "markdown",
   "id": "52394272",
   "metadata": {},
   "source": [
    "\n",
    "# Most Frequent Element in Array"
   ]
  },
  {
   "cell_type": "code",
   "execution_count": 21,
   "id": "cc728e33",
   "metadata": {},
   "outputs": [
    {
     "name": "stdout",
     "output_type": "stream",
     "text": [
      "Enter the size of List: 7\n",
      "Enter the elements in List: 3\n",
      "Enter the elements in List: 4\n",
      "Enter the elements in List: 5\n",
      "Enter the elements in List: 4\n",
      "Enter the elements in List: 3\n",
      "Enter the elements in List: 6\n",
      "Enter the elements in List: 4\n",
      "[3, 4, 5, 4, 3, 6, 4]\n",
      "The Most Frequent Number is: 4\n",
      "It has appeared Total: 3 /times\n"
     ]
    }
   ],
   "source": [
    "\n",
    "\n",
    "def checker(lst):\n",
    "    temp=0\n",
    "    count=0\n",
    "    index=0\n",
    "    for j in range(0,len(lst)):\n",
    "        temp= lst.count(lst[j])\n",
    "        \n",
    "        if (temp>count):\n",
    "            count=temp\n",
    "            index=j\n",
    "    rept=lst[index]\n",
    "    return rept,count\n",
    "\n",
    "\n",
    "lst=[]\n",
    "a=int(input(\"Enter the size of List: \"))\n",
    "for i in range(0,a):\n",
    "    ele=int(input(\"Enter the elements in List: \"))\n",
    "    lst.append(ele)\n",
    "print(lst)\n",
    "\n",
    "test,con=checker(lst)\n",
    "\n",
    "print(\"The Most Frequent Number is:\",test)\n",
    "print(\"It has appeared Total:\",con,\"/times\")\n"
   ]
  },
  {
   "cell_type": "code",
   "execution_count": null,
   "id": "1ace0ab4",
   "metadata": {},
   "outputs": [],
   "source": []
  }
 ],
 "metadata": {
  "kernelspec": {
   "display_name": "Python 3 (ipykernel)",
   "language": "python",
   "name": "python3"
  },
  "language_info": {
   "codemirror_mode": {
    "name": "ipython",
    "version": 3
   },
   "file_extension": ".py",
   "mimetype": "text/x-python",
   "name": "python",
   "nbconvert_exporter": "python",
   "pygments_lexer": "ipython3",
   "version": "3.9.13"
  }
 },
 "nbformat": 4,
 "nbformat_minor": 5
}
