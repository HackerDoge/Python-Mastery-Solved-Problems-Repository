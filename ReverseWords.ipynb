{
 "cells": [
  {
   "cell_type": "code",
   "execution_count": 4,
   "id": "e27993ec",
   "metadata": {},
   "outputs": [
    {
     "name": "stdout",
     "output_type": "stream",
     "text": [
      "Enter the String: hello world \n",
      "Reversed String is:  world hello\n"
     ]
    }
   ],
   "source": [
    "def reverser(string):\n",
    "    rev=string.split()[::-1]\n",
    "    return \" \".join(rev)\n",
    "    \n",
    "string=(input(\"Enter the String: \"))\n",
    "res= reverser(string)\n",
    "print(\"Reversed String is: \",res)"
   ]
  },
  {
   "cell_type": "code",
   "execution_count": null,
   "id": "277537c5",
   "metadata": {},
   "outputs": [],
   "source": []
  }
 ],
 "metadata": {
  "kernelspec": {
   "display_name": "Python 3 (ipykernel)",
   "language": "python",
   "name": "python3"
  },
  "language_info": {
   "codemirror_mode": {
    "name": "ipython",
    "version": 3
   },
   "file_extension": ".py",
   "mimetype": "text/x-python",
   "name": "python",
   "nbconvert_exporter": "python",
   "pygments_lexer": "ipython3",
   "version": "3.9.13"
  }
 },
 "nbformat": 4,
 "nbformat_minor": 5
}
