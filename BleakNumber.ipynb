{
 "cells": [
  {
   "cell_type": "code",
   "execution_count": 9,
   "id": "4183be82",
   "metadata": {},
   "outputs": [
    {
     "name": "stdout",
     "output_type": "stream",
     "text": [
      "Enter a Number:5\n",
      "5 is supported.\n"
     ]
    }
   ],
   "source": [
    "def countbinaryone(number):\n",
    "    return bin(number).count('1')\n",
    "\n",
    "def is_bleak(number):\n",
    "    for m in range(number):\n",
    "        if m + countbinaryone(m) == number:\n",
    "            return False \n",
    "    return True \n",
    "\n",
    "number =int(input(\"Enter a Number:\"))\n",
    "\n",
    "if is_bleak(number):\n",
    "    print(f\"{number} is a bleak number.\")\n",
    "else:\n",
    "    print(f\"{number} is supported.\")"
   ]
  },
  {
   "cell_type": "code",
   "execution_count": null,
   "id": "d0662a07",
   "metadata": {},
   "outputs": [],
   "source": []
  }
 ],
 "metadata": {
  "kernelspec": {
   "display_name": "Python 3 (ipykernel)",
   "language": "python",
   "name": "python3"
  },
  "language_info": {
   "codemirror_mode": {
    "name": "ipython",
    "version": 3
   },
   "file_extension": ".py",
   "mimetype": "text/x-python",
   "name": "python",
   "nbconvert_exporter": "python",
   "pygments_lexer": "ipython3",
   "version": "3.9.13"
  }
 },
 "nbformat": 4,
 "nbformat_minor": 5
}
