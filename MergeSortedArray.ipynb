{
 "cells": [
  {
   "cell_type": "code",
   "execution_count": 11,
   "id": "2d7d941a",
   "metadata": {
    "scrolled": true
   },
   "outputs": [
    {
     "ename": "SyntaxError",
     "evalue": "invalid syntax (1506979630.py, line 32)",
     "output_type": "error",
     "traceback": [
      "\u001b[1;36m  File \u001b[1;32m\"C:\\Users\\arije\\AppData\\Local\\Temp\\ipykernel_22716\\1506979630.py\"\u001b[1;36m, line \u001b[1;32m32\u001b[0m\n\u001b[1;33m    arr1=Inp():\u001b[0m\n\u001b[1;37m              ^\u001b[0m\n\u001b[1;31mSyntaxError\u001b[0m\u001b[1;31m:\u001b[0m invalid syntax\n"
     ]
    }
   ],
   "source": [
    "def Inp():\n",
    "    siz=int(input(\"Enter size of Array: \"))\n",
    "    arr=[]\n",
    "    for i in range(0,siz):\n",
    "        ele=int(input(\"Enter elements in Array: \"))\n",
    "        arr.append(ele)\n",
    "    return a\n",
    "def merge_sorted_array(arr1,arr2):\n",
    "    arr3=[]\n",
    "    arr1.sort()\n",
    "    arr2.sort()\n",
    "    a,b=0,0\n",
    "    \n",
    "    while a<len(arr1) and b<len(arr2):\n",
    "        if arr1[a]<arr2[b]:\n",
    "            arr3.append(arr1[a])\n",
    "            a+=1\n",
    "        \n",
    "        else:\n",
    "            arr3.append(arr2[b])\n",
    "            b+=1\n",
    "            \n",
    "    while a<len(arr1):\n",
    "        arr3.append(arr1[a])\n",
    "        a+=1\n",
    "    while b<len(arr1):\n",
    "        arr3.append(arr2[b])\n",
    "        b+=1\n",
    "        \n",
    "    return arr3    \n",
    "    \n",
    "arr1=Inp(arr1):\n",
    "print(\"Array1: \",arr1)\n",
    "\n",
    "arr2=Inp(arr2):\n",
    "print(\"Array2: \",arr2)\n",
    "\n",
    "result=merge_sorted_array(arr1,arr2)\n",
    "print(\"The Sorted Array: \",result)"
   ]
  },
  {
   "cell_type": "code",
   "execution_count": null,
   "id": "74604dff",
   "metadata": {},
   "outputs": [],
   "source": []
  }
 ],
 "metadata": {
  "kernelspec": {
   "display_name": "Python 3 (ipykernel)",
   "language": "python",
   "name": "python3"
  },
  "language_info": {
   "codemirror_mode": {
    "name": "ipython",
    "version": 3
   },
   "file_extension": ".py",
   "mimetype": "text/x-python",
   "name": "python",
   "nbconvert_exporter": "python",
   "pygments_lexer": "ipython3",
   "version": "3.9.13"
  }
 },
 "nbformat": 4,
 "nbformat_minor": 5
}
